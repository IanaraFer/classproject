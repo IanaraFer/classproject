{
 "cells": [
  {
   "cell_type": "markdown",
   "metadata": {},
   "source": [
    "# Palmer Penguinis Project Anality\n",
    "***\n",
    "This notebook contains my analysis of the famous palmer penguins dataset.\n",
    "\n",
    "The dataset is avalible in [on GitHub]\n",
    "\n",
    "![Penguins](https://allisonhorst.github.io/palmerpenguins/reference/figures/culmen_depth.png)"
   ]
  },
  {
   "cell_type": "markdown",
   "metadata": {},
   "source": [
    "## Imports\n",
    "****\n",
    "\n",
    "We use pandas for the DataFrame data strucuture.\n",
    "\n",
    "It allows us to investigate CSV files, amongst other features."
   ]
  },
  {
   "cell_type": "markdown",
   "metadata": {},
   "source": [
    "### Load Data\n",
    "***\n",
    "\n",
    "Load the palmer penguins data set from a URL."
   ]
  },
  {
   "cell_type": "code",
   "execution_count": 78,
   "metadata": {},
   "outputs": [],
   "source": [
    "# Data frames.\n",
    "import pandas as pd\n",
    "\n",
    "# Numerical arrays and rando numbers.\n",
    "import numpy as np\n",
    "\n",
    "# Plot.\n",
    "import matplotlib.pyplot as plt\n",
    "\n",
    "\n",
    "import seaborn as sns\n"
   ]
  },
  {
   "cell_type": "markdown",
   "metadata": {},
   "source": [
    "I will be using scikit-learn to do Principal Component Analysis with Penguins data. Let us load PCA module from scikit-learn. We will be using scikit-Learn's ability chain together multiple steps of analysis using “pipeline”. \n",
    "\n",
    "As I will compare two variables and for this, I need to import NumPy, Matplotlib, seaborn and others to analyze between them. \n",
    "\n",
    "I had decided to import all of them at the beginning of this project. This way I can work with my code without worry. \n",
    "\n"
   ]
  },
  {
   "cell_type": "code",
   "execution_count": 79,
   "metadata": {},
   "outputs": [],
   "source": [
    "from sklearn.decomposition import PCA\n",
    "from sklearn.pipeline import make_pipeline\n",
    "from sklearn.preprocessing import StandardScaler"
   ]
  },
  {
   "cell_type": "markdown",
   "metadata": {},
   "source": [
    "The data is now loaded and we can inspect it."
   ]
  },
  {
   "cell_type": "code",
   "execution_count": 80,
   "metadata": {},
   "outputs": [],
   "source": [
    "#  Load the penguins data set.\n",
    "df = pd.read_csv (\"https://raw.githubusercontent.com/mwaskom/seaborn-data/master/penguins.csv\")"
   ]
  },
  {
   "cell_type": "code",
   "execution_count": 81,
   "metadata": {},
   "outputs": [
    {
     "data": {
      "text/html": [
       "<div>\n",
       "<style scoped>\n",
       "    .dataframe tbody tr th:only-of-type {\n",
       "        vertical-align: middle;\n",
       "    }\n",
       "\n",
       "    .dataframe tbody tr th {\n",
       "        vertical-align: top;\n",
       "    }\n",
       "\n",
       "    .dataframe thead th {\n",
       "        text-align: right;\n",
       "    }\n",
       "</style>\n",
       "<table border=\"1\" class=\"dataframe\">\n",
       "  <thead>\n",
       "    <tr style=\"text-align: right;\">\n",
       "      <th></th>\n",
       "      <th>species</th>\n",
       "      <th>island</th>\n",
       "      <th>bill_length_mm</th>\n",
       "      <th>bill_depth_mm</th>\n",
       "      <th>flipper_length_mm</th>\n",
       "      <th>body_mass_g</th>\n",
       "      <th>sex</th>\n",
       "    </tr>\n",
       "  </thead>\n",
       "  <tbody>\n",
       "    <tr>\n",
       "      <th>0</th>\n",
       "      <td>Adelie</td>\n",
       "      <td>Torgersen</td>\n",
       "      <td>39.1</td>\n",
       "      <td>18.7</td>\n",
       "      <td>181.0</td>\n",
       "      <td>3750.0</td>\n",
       "      <td>MALE</td>\n",
       "    </tr>\n",
       "    <tr>\n",
       "      <th>1</th>\n",
       "      <td>Adelie</td>\n",
       "      <td>Torgersen</td>\n",
       "      <td>39.5</td>\n",
       "      <td>17.4</td>\n",
       "      <td>186.0</td>\n",
       "      <td>3800.0</td>\n",
       "      <td>FEMALE</td>\n",
       "    </tr>\n",
       "    <tr>\n",
       "      <th>2</th>\n",
       "      <td>Adelie</td>\n",
       "      <td>Torgersen</td>\n",
       "      <td>40.3</td>\n",
       "      <td>18.0</td>\n",
       "      <td>195.0</td>\n",
       "      <td>3250.0</td>\n",
       "      <td>FEMALE</td>\n",
       "    </tr>\n",
       "    <tr>\n",
       "      <th>3</th>\n",
       "      <td>Adelie</td>\n",
       "      <td>Torgersen</td>\n",
       "      <td>NaN</td>\n",
       "      <td>NaN</td>\n",
       "      <td>NaN</td>\n",
       "      <td>NaN</td>\n",
       "      <td>NaN</td>\n",
       "    </tr>\n",
       "    <tr>\n",
       "      <th>4</th>\n",
       "      <td>Adelie</td>\n",
       "      <td>Torgersen</td>\n",
       "      <td>36.7</td>\n",
       "      <td>19.3</td>\n",
       "      <td>193.0</td>\n",
       "      <td>3450.0</td>\n",
       "      <td>FEMALE</td>\n",
       "    </tr>\n",
       "    <tr>\n",
       "      <th>...</th>\n",
       "      <td>...</td>\n",
       "      <td>...</td>\n",
       "      <td>...</td>\n",
       "      <td>...</td>\n",
       "      <td>...</td>\n",
       "      <td>...</td>\n",
       "      <td>...</td>\n",
       "    </tr>\n",
       "    <tr>\n",
       "      <th>339</th>\n",
       "      <td>Gentoo</td>\n",
       "      <td>Biscoe</td>\n",
       "      <td>NaN</td>\n",
       "      <td>NaN</td>\n",
       "      <td>NaN</td>\n",
       "      <td>NaN</td>\n",
       "      <td>NaN</td>\n",
       "    </tr>\n",
       "    <tr>\n",
       "      <th>340</th>\n",
       "      <td>Gentoo</td>\n",
       "      <td>Biscoe</td>\n",
       "      <td>46.8</td>\n",
       "      <td>14.3</td>\n",
       "      <td>215.0</td>\n",
       "      <td>4850.0</td>\n",
       "      <td>FEMALE</td>\n",
       "    </tr>\n",
       "    <tr>\n",
       "      <th>341</th>\n",
       "      <td>Gentoo</td>\n",
       "      <td>Biscoe</td>\n",
       "      <td>50.4</td>\n",
       "      <td>15.7</td>\n",
       "      <td>222.0</td>\n",
       "      <td>5750.0</td>\n",
       "      <td>MALE</td>\n",
       "    </tr>\n",
       "    <tr>\n",
       "      <th>342</th>\n",
       "      <td>Gentoo</td>\n",
       "      <td>Biscoe</td>\n",
       "      <td>45.2</td>\n",
       "      <td>14.8</td>\n",
       "      <td>212.0</td>\n",
       "      <td>5200.0</td>\n",
       "      <td>FEMALE</td>\n",
       "    </tr>\n",
       "    <tr>\n",
       "      <th>343</th>\n",
       "      <td>Gentoo</td>\n",
       "      <td>Biscoe</td>\n",
       "      <td>49.9</td>\n",
       "      <td>16.1</td>\n",
       "      <td>213.0</td>\n",
       "      <td>5400.0</td>\n",
       "      <td>MALE</td>\n",
       "    </tr>\n",
       "  </tbody>\n",
       "</table>\n",
       "<p>344 rows × 7 columns</p>\n",
       "</div>"
      ],
      "text/plain": [
       "    species     island  bill_length_mm  bill_depth_mm  flipper_length_mm  \\\n",
       "0    Adelie  Torgersen            39.1           18.7              181.0   \n",
       "1    Adelie  Torgersen            39.5           17.4              186.0   \n",
       "2    Adelie  Torgersen            40.3           18.0              195.0   \n",
       "3    Adelie  Torgersen             NaN            NaN                NaN   \n",
       "4    Adelie  Torgersen            36.7           19.3              193.0   \n",
       "..      ...        ...             ...            ...                ...   \n",
       "339  Gentoo     Biscoe             NaN            NaN                NaN   \n",
       "340  Gentoo     Biscoe            46.8           14.3              215.0   \n",
       "341  Gentoo     Biscoe            50.4           15.7              222.0   \n",
       "342  Gentoo     Biscoe            45.2           14.8              212.0   \n",
       "343  Gentoo     Biscoe            49.9           16.1              213.0   \n",
       "\n",
       "     body_mass_g     sex  \n",
       "0         3750.0    MALE  \n",
       "1         3800.0  FEMALE  \n",
       "2         3250.0  FEMALE  \n",
       "3            NaN     NaN  \n",
       "4         3450.0  FEMALE  \n",
       "..           ...     ...  \n",
       "339          NaN     NaN  \n",
       "340       4850.0  FEMALE  \n",
       "341       5750.0    MALE  \n",
       "342       5200.0  FEMALE  \n",
       "343       5400.0    MALE  \n",
       "\n",
       "[344 rows x 7 columns]"
      ]
     },
     "execution_count": 81,
     "metadata": {},
     "output_type": "execute_result"
    }
   ],
   "source": [
    "# Let's have a look\n",
    "df"
   ]
  },
  {
   "cell_type": "markdown",
   "metadata": {},
   "source": [
    "### Overview about Dataset.\n",
    "***\n",
    "The Palmer Penguins dataset provided is related to penguins. It contains information about various penguin species observed in the Palmer Archipelago, Antarctica. Let’s explore this data further:\n",
    "\n",
    "Species: The dataset includes three different species of penguins: Adelie, Chinstrap, and Gentoo.\n",
    "Island: Penguins were collected from three different islands in the Palmer Archipelago: Torgersen, Biscoe, and Dream.\n",
    "Bill Length (mm): The length of the penguin’s bill in millimeters.\n",
    "Bill Depth (mm): The depth of the penguin’s bill in millimeters.\n",
    "Flipper Length (mm): The length of the penguin’s flipper in millimeters.\n",
    "Body Mass (g): The body mass of the penguin in grams.\n",
    "Sex: The gender of the penguin (either male or female).\n",
    "Year: The year when the data was collected.\n",
    "Here are a few examples from the dataset:\n",
    "\n",
    "Penguin 1 (Adelie, Torgersen):\n",
    "Bill Length: 39.1 mm\n",
    "Bill Depth: 18.7 mm\n",
    "Flipper Length: 181 mm\n",
    "Body Mass: 3750 g\n",
    "Sex: Male\n",
    "Year: 2007\n",
    "\n",
    "Penguin 2 (Adelie, Torgersen):\n",
    "Bill Length: 39.5 mm\n",
    "Bill Depth: 17.4 mm\n",
    "Flipper Length: 186 mm\n",
    "Body Mass: 3800 g\n",
    "Sex: Female\n",
    "Year: 2007\n",
    "\n",
    "Penguin 3 (Adelie, Torgersen):\n",
    "Bill Length: 40.3 mm\n",
    "Bill Depth: 18.0 mm\n",
    "Flipper Length: 195 mm\n",
    "Body Mass: 3250 g\n",
    "Sex: Female\n",
    "Year: 2007\n",
    "\n",
    "The dataset contains a total of 344 penguins across the three species and islands.\n",
    "https://allisonhorst.github.io/palmerpenguins/"
   ]
  },
  {
   "cell_type": "markdown",
   "metadata": {},
   "source": [
    "## Inspect Data\n",
    "***"
   ]
  },
  {
   "cell_type": "markdown",
   "metadata": {},
   "source": [
    "#### Types of variables that will be used in this project\n",
    "\n",
    "For explore this dataset I had decide to use two variables sex and body-mass.  \n",
    "\n",
    "I had choses these 2 variables to check if it differences between male and female in the body-mass size. "
   ]
  },
  {
   "cell_type": "code",
   "execution_count": 82,
   "metadata": {},
   "outputs": [
    {
     "data": {
      "text/html": [
       "<div>\n",
       "<style scoped>\n",
       "    .dataframe tbody tr th:only-of-type {\n",
       "        vertical-align: middle;\n",
       "    }\n",
       "\n",
       "    .dataframe tbody tr th {\n",
       "        vertical-align: top;\n",
       "    }\n",
       "\n",
       "    .dataframe thead th {\n",
       "        text-align: right;\n",
       "    }\n",
       "</style>\n",
       "<table border=\"1\" class=\"dataframe\">\n",
       "  <thead>\n",
       "    <tr style=\"text-align: right;\">\n",
       "      <th></th>\n",
       "      <th>bill_length_mm</th>\n",
       "      <th>bill_depth_mm</th>\n",
       "      <th>flipper_length_mm</th>\n",
       "      <th>body_mass_g</th>\n",
       "    </tr>\n",
       "  </thead>\n",
       "  <tbody>\n",
       "    <tr>\n",
       "      <th>count</th>\n",
       "      <td>342.000000</td>\n",
       "      <td>342.000000</td>\n",
       "      <td>342.000000</td>\n",
       "      <td>342.000000</td>\n",
       "    </tr>\n",
       "    <tr>\n",
       "      <th>mean</th>\n",
       "      <td>43.921930</td>\n",
       "      <td>17.151170</td>\n",
       "      <td>200.915205</td>\n",
       "      <td>4201.754386</td>\n",
       "    </tr>\n",
       "    <tr>\n",
       "      <th>std</th>\n",
       "      <td>5.459584</td>\n",
       "      <td>1.974793</td>\n",
       "      <td>14.061714</td>\n",
       "      <td>801.954536</td>\n",
       "    </tr>\n",
       "    <tr>\n",
       "      <th>min</th>\n",
       "      <td>32.100000</td>\n",
       "      <td>13.100000</td>\n",
       "      <td>172.000000</td>\n",
       "      <td>2700.000000</td>\n",
       "    </tr>\n",
       "    <tr>\n",
       "      <th>25%</th>\n",
       "      <td>39.225000</td>\n",
       "      <td>15.600000</td>\n",
       "      <td>190.000000</td>\n",
       "      <td>3550.000000</td>\n",
       "    </tr>\n",
       "    <tr>\n",
       "      <th>50%</th>\n",
       "      <td>44.450000</td>\n",
       "      <td>17.300000</td>\n",
       "      <td>197.000000</td>\n",
       "      <td>4050.000000</td>\n",
       "    </tr>\n",
       "    <tr>\n",
       "      <th>75%</th>\n",
       "      <td>48.500000</td>\n",
       "      <td>18.700000</td>\n",
       "      <td>213.000000</td>\n",
       "      <td>4750.000000</td>\n",
       "    </tr>\n",
       "    <tr>\n",
       "      <th>max</th>\n",
       "      <td>59.600000</td>\n",
       "      <td>21.500000</td>\n",
       "      <td>231.000000</td>\n",
       "      <td>6300.000000</td>\n",
       "    </tr>\n",
       "  </tbody>\n",
       "</table>\n",
       "</div>"
      ],
      "text/plain": [
       "       bill_length_mm  bill_depth_mm  flipper_length_mm  body_mass_g\n",
       "count      342.000000     342.000000         342.000000   342.000000\n",
       "mean        43.921930      17.151170         200.915205  4201.754386\n",
       "std          5.459584       1.974793          14.061714   801.954536\n",
       "min         32.100000      13.100000         172.000000  2700.000000\n",
       "25%         39.225000      15.600000         190.000000  3550.000000\n",
       "50%         44.450000      17.300000         197.000000  4050.000000\n",
       "75%         48.500000      18.700000         213.000000  4750.000000\n",
       "max         59.600000      21.500000         231.000000  6300.000000"
      ]
     },
     "execution_count": 82,
     "metadata": {},
     "output_type": "execute_result"
    }
   ],
   "source": [
    "# Describe the data set.\n",
    "df.describe()"
   ]
  },
  {
   "cell_type": "code",
   "execution_count": 83,
   "metadata": {},
   "outputs": [
    {
     "data": {
      "text/plain": [
       "species                 Adelie\n",
       "island               Torgersen\n",
       "bill_length_mm            39.1\n",
       "bill_depth_mm             18.7\n",
       "flipper_length_mm        181.0\n",
       "body_mass_g             3750.0\n",
       "sex                       MALE\n",
       "Name: 0, dtype: object"
      ]
     },
     "execution_count": 83,
     "metadata": {},
     "output_type": "execute_result"
    }
   ],
   "source": [
    "# Look at the first row.\n",
    "df.iloc[0] "
   ]
  },
  {
   "cell_type": "markdown",
   "metadata": {},
   "source": [
    "## Setectin the 2 variables\n",
    "***\n",
    "\n",
    "I have decided to use Sex and Body mass. \n",
    "\n",
    "In this point I need to have the 2 variables I want to work it.  \n",
    "\n",
    "This way I could just separate all datasets just the 2 columns is interest for me. "
   ]
  },
  {
   "cell_type": "code",
   "execution_count": 84,
   "metadata": {},
   "outputs": [
    {
     "data": {
      "text/plain": [
       "0        MALE\n",
       "1      FEMALE\n",
       "2      FEMALE\n",
       "3         NaN\n",
       "4      FEMALE\n",
       "        ...  \n",
       "339       NaN\n",
       "340    FEMALE\n",
       "341      MALE\n",
       "342    FEMALE\n",
       "343      MALE\n",
       "Name: sex, Length: 344, dtype: object"
      ]
     },
     "execution_count": 84,
     "metadata": {},
     "output_type": "execute_result"
    }
   ],
   "source": [
    "# Sex of penguins.\n",
    "df['sex']"
   ]
  },
  {
   "cell_type": "code",
   "execution_count": 85,
   "metadata": {},
   "outputs": [
    {
     "data": {
      "text/plain": [
       "sex\n",
       "MALE      168\n",
       "FEMALE    165\n",
       "Name: count, dtype: int64"
      ]
     },
     "execution_count": 85,
     "metadata": {},
     "output_type": "execute_result"
    }
   ],
   "source": [
    "# Count the number of penguins of each sex.\n",
    "df['sex'].value_counts()"
   ]
  },
  {
   "cell_type": "markdown",
   "metadata": {},
   "source": [
    "#### Table \n",
    "\n",
    "| Gender  | Quantity     |\n",
    "|---------|--------------|\n",
    "| MALE    | 168          |\n",
    "| FEMALE  | 165          |\n"
   ]
  },
  {
   "cell_type": "code",
   "execution_count": 104,
   "metadata": {},
   "outputs": [
    {
     "data": {
      "text/plain": [
       "<BarContainer object of 2 artists>"
      ]
     },
     "execution_count": 104,
     "metadata": {},
     "output_type": "execute_result"
    },
    {
     "data": {
      "image/png": "[encoded data removed]",
      "text/plain": [
       "<Figure size 640x480 with 1 Axes>"
      ]
     },
     "metadata": {},
     "output_type": "display_data"
    }
   ],
   "source": [
    "# Sample data (replace with your own)\n",
    "grouped_data.plot(kind='bar', title='Average Sex')\n",
    "x_axis = ['MALE', 'FEMALE']\n",
    "y_axis = [168, 165]\n",
    "\n",
    "# Create the bar chart\n",
    "plt.bar(x_axis, y_axis, color='blue')"
   ]
  },
  {
   "cell_type": "markdown",
   "metadata": {},
   "source": [
    "Analyzing the sex variable, I noticed that there is a minimal difference between male and female. 168 males and 165 females. Which is much better to assess the variable of body mass among them, since there is no population inequality in males and females. "
   ]
  },
  {
   "cell_type": "code",
   "execution_count": 87,
   "metadata": {},
   "outputs": [
    {
     "data": {
      "text/plain": [
       "0      3750.0\n",
       "1      3800.0\n",
       "2      3250.0\n",
       "3         NaN\n",
       "4      3450.0\n",
       "        ...  \n",
       "339       NaN\n",
       "340    4850.0\n",
       "341    5750.0\n",
       "342    5200.0\n",
       "343    5400.0\n",
       "Name: body_mass_g, Length: 344, dtype: float64"
      ]
     },
     "execution_count": 87,
     "metadata": {},
     "output_type": "execute_result"
    }
   ],
   "source": [
    "# Describe body mass\n",
    "df['body_mass_g']"
   ]
  },
  {
   "cell_type": "code",
   "execution_count": 88,
   "metadata": {},
   "outputs": [
    {
     "name": "stdout",
     "output_type": "stream",
     "text": [
      "        sex  body_mass_g\n",
      "0      MALE       3750.0\n",
      "1    FEMALE       3800.0\n",
      "2    FEMALE       3250.0\n",
      "3       NaN          NaN\n",
      "4    FEMALE       3450.0\n",
      "..      ...          ...\n",
      "339     NaN          NaN\n",
      "340  FEMALE       4850.0\n",
      "341    MALE       5750.0\n",
      "342  FEMALE       5200.0\n",
      "343    MALE       5400.0\n",
      "\n",
      "[344 rows x 2 columns]\n"
     ]
    }
   ],
   "source": [
    "# Select the desired columns\n",
    "selected_columns = df[[\"sex\", \"body_mass_g\"]]\n",
    "\n",
    "# Print the resulting DataFrame\n",
    "print(selected_columns)"
   ]
  },
  {
   "cell_type": "markdown",
   "metadata": {},
   "source": [
    "#### Histogram\n",
    "\n",
    "###### Numpy and Matplotlib\n",
    "\n",
    "Matplotlib is a multiplatform data visualization library built on NumPy arrays and designed to work with the broader SciPy stack. It was conceived by John Hunter in 2002, originally as a patch to Python for enabling interactive MATLAB-style plotting via gnu plot from the Python command line. Python's creator, Fernando Perez, was at the time scrambling to finish his PhD, and let John know he wouldn’t have time to review the patch for several months. John took this as a cue to set out on his own, and the Matplotlib package was born, with version 0.1 released in 2003. It received an early boost when it was adopted as the plotting package of choice of the Space Telescope Science Institute (the folks behind the Hubble Telescope), which financially supported Matplotlib’s development and greatly expanded its capabilities. \n",
    "\n",
    "One of Matplotlib’s most important features is its ability to play well with many operating systems and graphics backends. Matplotlib supports dozens of backends and output types, which means you can count on it to work regardless of which operating system you are using or which output format you wish. This cross-platform, everything-to-everyone approach has been one of the great strengths of Matplotlib. It has led to a large userbase, which in turn has led to an active developer base and Matplotlib’s powerful tools and ubiquity within the scientific Python world. \n",
    "\n",
    "Seaborn (discussed in “Visualization with Seaborn”), plot, Hollo Views, Altair, and even Pandas itself can be used as wrappers around Matplotlib’s API. Even with wrappers like these, it is still often useful to dive into Matplotlib’s syntax to adjust the final plot output. For this reason, I believe that Matplotlib itself will remain a vital piece of the data visualization stack, even if new tools mean the community gradually moves away from using the Matplotlib API directly. \n",
    "\n",
    "\n",
    "References \n",
    "https://numpy.org/doc/stable/reference/generated/numpy.unique.html\n",
    "https://matplotlib.org/stable/api/_as_gen/matplotlib.pyplot.hist.html\n",
    "https://docs.python.org/3/library/math.html\n",
    "https://realpython.com/python-histograms/\n",
    "https://www.oreilly.com/library/view/python-data-science/9781491912126/ch04.html\n",
    "https://medium.com/@ugursavci/complete-exploratory-data-analysis-using-python-9f685d67d1e4\n"
   ]
  },
  {
   "cell_type": "code",
   "execution_count": 89,
   "metadata": {},
   "outputs": [
    {
     "data": {
      "text/plain": [
       "(array(['sex'], dtype='<U3'), array([1], dtype=int64))"
      ]
     },
     "execution_count": 89,
     "metadata": {},
     "output_type": "execute_result"
    }
   ],
   "source": [
    "# Get the counts.\n",
    "values, counts = np.unique('sex', return_counts=True)\n",
    "\n",
    "# Show.\n",
    "values, counts"
   ]
  },
  {
   "cell_type": "code",
   "execution_count": 90,
   "metadata": {},
   "outputs": [],
   "source": [
    "# Assuming your DataFrame is named 'df'\n",
    "selected_columns = df[['sex', 'body_mass_g']]"
   ]
  },
  {
   "cell_type": "code",
   "execution_count": 91,
   "metadata": {},
   "outputs": [],
   "source": [
    "grouped_data = selected_columns.groupby('sex')['body_mass_g'].mean()"
   ]
  },
  {
   "cell_type": "code",
   "execution_count": 92,
   "metadata": {},
   "outputs": [
    {
     "data": {
      "image/png": "[encoded data removed]",
      "text/plain": [
       "<Figure size 640x480 with 1 Axes>"
      ]
     },
     "metadata": {},
     "output_type": "display_data"
    }
   ],
   "source": [
    "grouped_data.plot(kind='bar', title='Average Body Mass by Sex')\n",
    "plt.xlabel('Sex')\n",
    "plt.ylabel('Body Mass (grams)')\n",
    "plt.show()"
   ]
  },
  {
   "cell_type": "code",
   "execution_count": 93,
   "metadata": {},
   "outputs": [
    {
     "data": {
      "image/png": "[encoded data removed]",
      "text/plain": [
       "<Figure size 640x480 with 1 Axes>"
      ]
     },
     "metadata": {},
     "output_type": "display_data"
    }
   ],
   "source": [
    "# Histogram Sex X Body_mass\n",
    "# Replace 'body_mass_g' with the actual column name in your DataFrame\n",
    "\n",
    "plt.hist(df['body_mass_g'], bins=9, edgecolor='black', alpha=0.7)\n",
    "plt.xlabel('Body Mass (grams)')\n",
    "plt.ylabel('Frequency')\n",
    "plt.title('Distribution of Body Mass by Sex')\n",
    "plt.grid(axis='y', linestyle='--', alpha=0.5)\n",
    "plt.show()"
   ]
  },
  {
   "cell_type": "markdown",
   "metadata": {},
   "source": [
    "##### Iris Dataset of Sex and Body Mass"
   ]
  },
  {
   "cell_type": "code",
   "execution_count": 94,
   "metadata": {},
   "outputs": [
    {
     "data": {
      "image/png": "[encoded data removed]",
      "text/plain": [
       "<Figure size 640x480 with 1 Axes>"
      ]
     },
     "metadata": {},
     "output_type": "display_data"
    }
   ],
   "source": [
    "from sklearn.datasets import load_iris\n",
    "import matplotlib.pyplot as plt\n",
    "\n",
    "# Load the Iris dataset\n",
    "iris = load_iris()\n",
    "\n",
    "# Create a scatter plot\n",
    "plt.scatter(iris.data[:, 0], iris.data[:, 1], c=iris.target)\n",
    "plt.xlabel(iris.feature_names[0])\n",
    "plt.ylabel(iris.feature_names[1])\n",
    "plt.title(\"Iris Dataset: sex vs. body_mass_g\")\n",
    "plt.legend(iris.target_names, loc=\"lower right\", title=\"Classes\")\n",
    "plt.show()"
   ]
  },
  {
   "cell_type": "markdown",
   "metadata": {},
   "source": [
    "https://archive.icv.uci.edu/dataset/53/iris\n",
    "\n",
    "https://raw.githubusercontent.com/mwaskom/seaborn-data/master/iris.csv"
   ]
  },
  {
   "cell_type": "markdown",
   "metadata": {},
   "source": [
    "## Math\n",
    "***\n",
    "\n",
    "$f(x) = x^2$\n",
    "\n",
    "$\\sum_{i=0}^{n-1} i$\n",
    "\n",
    "$\\bar{x} = \\frac{\\sum_{i=o}^ {n-1} x_i} {n}$"
   ]
  },
  {
   "cell_type": "markdown",
   "metadata": {},
   "source": [
    "#### Calculator the BMI of dataset \n",
    "\n",
    "#### Male x Female\n"
   ]
  },
  {
   "cell_type": "code",
   "execution_count": 95,
   "metadata": {},
   "outputs": [
    {
     "name": "stdout",
     "output_type": "stream",
     "text": [
      "Weight: 4000 kg, Height: 1.75 m, Sex: Male, BMI: Obese\n",
      "Weight: 3325 kg, Height: 1.65 m, Sex: Female, BMI: Obese\n"
     ]
    }
   ],
   "source": [
    "# Calculate BMI between male x female\n",
    "def calculate_bmi(weight, height, sex):\n",
    "    \"\"\"\n",
    "    Calculates BMI based on weight (in kg) and height (in meters).\n",
    "    :param weight: Weight in kilograms.\n",
    "    :param height: Height in meters.\n",
    "    :param sex: 'male' or 'female'.\n",
    "    :return: BMI value.\n",
    "    \"\"\"\n",
    "    if sex == 'male':\n",
    "        bmi = weight / (height ** 2)\n",
    "    elif sex == 'female':\n",
    "        bmi = (weight * 703) / (height ** 2)\n",
    "    else:\n",
    "        return \"Invalid sex specified.\"\n",
    "\n",
    "    if bmi <= 18.5:\n",
    "        return \"Underweight\"\n",
    "    elif 18.5 < bmi < 25:\n",
    "        return \"Normal weight\"\n",
    "    elif 25 <= bmi < 30:\n",
    "        return \"Overweight\"\n",
    "    else:\n",
    "        return \"Obese\"\n",
    "\n",
    "# Data provided by the user\n",
    "data = [\n",
    "    (4000, 1.75, 'male'),\n",
    "    (3325, 1.65, 'female'),\n",
    "    # ... (other data entries)\n",
    "]\n",
    "\n",
    "# Calculate BMI for each individual\n",
    "for weight, height, sex in data:\n",
    "    bmi_result = calculate_bmi(weight, height, sex)\n",
    "    print(f\"Weight: {weight} kg, Height: {height} m, Sex: {sex.capitalize()}, BMI: {bmi_result}\")\n"
   ]
  },
  {
   "cell_type": "code",
   "execution_count": 96,
   "metadata": {},
   "outputs": [
    {
     "name": "stdout",
     "output_type": "stream",
     "text": [
      "   body_mass     sex\n",
      "0       4000    male\n",
      "1       3325  female\n",
      "2       3500    male\n",
      "3       3500  female\n",
      "4       4475    male\n"
     ]
    }
   ],
   "source": [
    "# Create a dictionary with the given data\n",
    "data = {\n",
    "    'body_mass': [\n",
    "        4000, 3325, 3500, 3500, 4475, 3425, 3900, 3175, 3975, 3400,\n",
    "        # ... (remaining data)\n",
    "    ],\n",
    "    'sex': [\n",
    "        'male', 'female', 'male', 'female', 'male', 'female', 'male', 'female', 'male', 'female',\n",
    "        # ... (remaining data)\n",
    "    ]\n",
    "}\n",
    "\n",
    "# Create a DataFrame\n",
    "df = pd.DataFrame(data)\n",
    "\n",
    "# Display the first few rows of the DataFrame\n",
    "print(df.head())"
   ]
  },
  {
   "cell_type": "code",
   "execution_count": 97,
   "metadata": {},
   "outputs": [
    {
     "name": "stdout",
     "output_type": "stream",
     "text": [
      "count      10.000000\n",
      "mean     3667.500000\n",
      "std       402.431844\n",
      "min      3175.000000\n",
      "25%      3406.250000\n",
      "50%      3500.000000\n",
      "75%      3956.250000\n",
      "max      4475.000000\n",
      "Name: body_mass, dtype: float64\n"
     ]
    }
   ],
   "source": [
    "# Summary statistics for body_mass\n",
    "print(df['body_mass'].describe())\n"
   ]
  },
  {
   "cell_type": "code",
   "execution_count": 98,
   "metadata": {},
   "outputs": [
    {
     "name": "stdout",
     "output_type": "stream",
     "text": [
      "sex\n",
      "female    3365.0\n",
      "male      3970.0\n",
      "Name: body_mass, dtype: float64\n"
     ]
    }
   ],
   "source": [
    "# Group by sex and calculate average body mass\n",
    "avg_body_mass_by_sex = df.groupby('sex')['body_mass'].mean()\n",
    "print(avg_body_mass_by_sex)\n"
   ]
  },
  {
   "cell_type": "markdown",
   "metadata": {},
   "source": [
    "In this project I tried to use different approaches and some codes gave errors (ex. SciPy. Stats) and others worked. I left the codes that I managed to get an answer. I believe there are still many other ways to analyze this data. however, between these 2 variables I chose sex and body mass in this dataset, it is a good start. "
   ]
  },
  {
   "cell_type": "markdown",
   "metadata": {},
   "source": [
    "***\n",
    "### End"
   ]
  }
 ],
 "metadata": {
  "kernelspec": {
   "display_name": "Python 3",
   "language": "python",
   "name": "python3"
  },
  "language_info": {
   "codemirror_mode": {
    "name": "ipython",
    "version": 3
   },
   "file_extension": ".py",
   "mimetype": "text/x-python",
   "name": "python",
   "nbconvert_exporter": "python",
   "pygments_lexer": "ipython3",
   "version": "3.11.7"
  }
 },
 "nbformat": 4,
 "nbformat_minor": 2
}
