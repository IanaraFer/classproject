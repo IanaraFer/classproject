{
 "cells": [
  {
   "cell_type": "markdown",
   "metadata": {},
   "source": [
    "# Random Numbers\n",
    "***\n"
   ]
  },
  {
   "cell_type": "markdown",
   "metadata": {},
   "source": [
    "## Prequisites\n",
    "***\n",
    "\n",
    "https://numpy.org/doc/stable/reference/random/index.html\n"
   ]
  },
  {
   "cell_type": "code",
   "execution_count": 1,
   "metadata": {},
   "outputs": [],
   "source": [
    "# Numerical arrays and random numbers.\n",
    "import numpy as np\n"
   ]
  },
  {
   "cell_type": "markdown",
   "metadata": {},
   "source": [
    "## Prequisites\n",
    "***"
   ]
  },
  {
   "cell_type": "code",
   "execution_count": 25,
   "metadata": {},
   "outputs": [],
   "source": [
    "# Numerical arrays and rando numbers.\n",
    "import numpy as np\n",
    "\n",
    "# Plot.\n",
    "import matplotlib.pyplot as plt"
   ]
  },
  {
   "cell_type": "markdown",
   "metadata": {},
   "source": [
    "## Generate Random Integers\n",
    "***"
   ]
  },
  {
   "cell_type": "code",
   "execution_count": 5,
   "metadata": {},
   "outputs": [],
   "source": [
    "rng = np.random.default_rng()\n"
   ]
  },
  {
   "cell_type": "code",
   "execution_count": 6,
   "metadata": {},
   "outputs": [
    {
     "data": {
      "text/plain": [
       "0.06369197489564249"
      ]
     },
     "execution_count": 6,
     "metadata": {},
     "output_type": "execute_result"
    }
   ],
   "source": [
    "# Generate one random float uniformly distributed over the range [0, 1)\n",
    "rng.random()  \n",
    "0.06369197489564249  # may vary\n"
   ]
  },
  {
   "cell_type": "code",
   "execution_count": 13,
   "metadata": {},
   "outputs": [
    {
     "data": {
      "text/plain": [
       "array([ 0.44710913,  2.11267737,  1.63341524,  0.7425535 ,  0.77230979,\n",
       "        0.02779915, -0.86659088,  1.25858162, -0.59961458,  1.62953803])"
      ]
     },
     "execution_count": 13,
     "metadata": {},
     "output_type": "execute_result"
    }
   ],
   "source": [
    "# Generate an array of 10 numbers according to a unit Gaussian distribution.\n",
    "import array\n",
    "\n",
    "rng.standard_normal(10)  \n"
   ]
  },
  {
   "cell_type": "code",
   "execution_count": 23,
   "metadata": {},
   "outputs": [
    {
     "data": {
      "text/plain": [
       "array([9, 4, 2, 6, 0], dtype=int64)"
      ]
     },
     "execution_count": 23,
     "metadata": {},
     "output_type": "execute_result"
    }
   ],
   "source": [
    "# Generate an array of 5 integers uniformly over the range [0, 10).\n",
    "rng.integers(low=0, high=10, size=5)  \n"
   ]
  },
  {
   "cell_type": "code",
   "execution_count": 47,
   "metadata": {},
   "outputs": [
    {
     "data": {
      "text/plain": [
       "array([4, 8, 7, ..., 1, 9, 4], dtype=int64)"
      ]
     },
     "execution_count": 47,
     "metadata": {},
     "output_type": "execute_result"
    }
   ],
   "source": [
    "# Generate 10.000 integers over the range (0, 10).\n",
    "x = rng.integers(low=1, high=10, size=10000, endpoint=True)\n",
    "\n",
    "# Show x.\n",
    "x"
   ]
  },
  {
   "cell_type": "code",
   "execution_count": 50,
   "metadata": {},
   "outputs": [
    {
     "data": {
      "text/plain": [
       "(array([ 1,  2,  3,  4,  5,  6,  7,  8,  9, 10], dtype=int64),\n",
       " array([1013, 1057,  987, 1044,  989, 1010,  955, 1043,  962,  940],\n",
       "       dtype=int64))"
      ]
     },
     "execution_count": 50,
     "metadata": {},
     "output_type": "execute_result"
    }
   ],
   "source": [
    "# Get the counts.\n",
    "values, counts = np.unique(x, return_counts=True)\n",
    "\n",
    "# Show.\n",
    "values, counts"
   ]
  },
  {
   "cell_type": "code",
   "execution_count": 51,
   "metadata": {},
   "outputs": [
    {
     "data": {
      "text/plain": [
       "<BarContainer object of 10 artists>"
      ]
     },
     "execution_count": 51,
     "metadata": {},
     "output_type": "execute_result"
    },
    {
     "data": {
      "image/png": "[encoded data removed]",
      "text/plain": [
       "<Figure size 640x480 with 1 Axes>"
      ]
     },
     "metadata": {},
     "output_type": "display_data"
    }
   ],
   "source": [
    "# Plot the bar chart.\n",
    "plt.bar(values, counts)\n"
   ]
  },
  {
   "cell_type": "markdown",
   "metadata": {},
   "source": [
    "## Uniform Distribution\n",
    "***"
   ]
  },
  {
   "cell_type": "code",
   "execution_count": 73,
   "metadata": {},
   "outputs": [
    {
     "data": {
      "text/plain": [
       "array([1.11482369, 4.66729696, 2.21888237, 2.85290972, 9.60682835,\n",
       "       3.65297429, 4.32172419, 2.34592334, 1.18191704, 5.25676758,\n",
       "       4.9803746 , 9.68029066, 0.12425681, 9.31371371, 5.70209543,\n",
       "       1.4117169 , 5.32508335, 8.48563007, 3.00592553, 8.40009888,\n",
       "       0.13556571, 3.85454819, 3.00204966, 1.88788204, 7.77418683,\n",
       "       8.72424211, 0.26541766, 7.43442572, 6.95956923, 7.34876677,\n",
       "       1.45021196, 4.85321495, 2.84025667, 1.29071642, 6.13939283,\n",
       "       1.47147489, 9.8992925 , 3.20698247, 0.43643421, 8.66939786,\n",
       "       0.2926237 , 1.19068177, 2.90943536, 2.17456193, 1.96017326,\n",
       "       1.5187021 , 8.11554506, 6.52124655, 0.39377925, 6.2840639 ,\n",
       "       6.80723323, 3.53740023, 1.31859977, 8.32329098, 8.62138962,\n",
       "       9.21138915, 1.44843974, 5.14311399, 9.40418287, 9.71172197,\n",
       "       5.9634428 , 3.60908336, 8.48356657, 0.29154593, 9.22440909,\n",
       "       9.37998672, 4.73425393, 3.16995685, 2.85072086, 6.33535371,\n",
       "       0.92997204, 0.31465145, 2.3409874 , 7.94556608, 3.12003801,\n",
       "       0.10776492, 0.26800488, 3.070495  , 2.47366765, 5.23352751,\n",
       "       3.09610505, 9.62911159, 6.11471296, 5.1948074 , 6.35559958,\n",
       "       0.28254271, 9.75279013, 0.52732297, 6.67974449, 2.56741331,\n",
       "       0.29515189, 1.79510504, 6.69402445, 7.2919006 , 2.33598851,\n",
       "       9.17400719, 4.33154939, 0.71617252, 8.63054428, 3.29265134])"
      ]
     },
     "execution_count": 73,
     "metadata": {},
     "output_type": "execute_result"
    }
   ],
   "source": [
    "# Generete 10.000 floats uniformly distributed over the range (0, 10).\n",
    "x = rng.uniform(low=0.0, high=10.0, size=100)\n",
    "\n",
    "# Show.\n",
    "x"
   ]
  },
  {
   "cell_type": "code",
   "execution_count": 74,
   "metadata": {},
   "outputs": [
    {
     "data": {
      "text/plain": [
       "(array([0.10776492, 0.12425681, 0.13556571, 0.26541766, 0.26800488,\n",
       "        0.28254271, 0.29154593, 0.2926237 , 0.29515189, 0.31465145,\n",
       "        0.39377925, 0.43643421, 0.52732297, 0.71617252, 0.92997204,\n",
       "        1.11482369, 1.18191704, 1.19068177, 1.29071642, 1.31859977,\n",
       "        1.4117169 , 1.44843974, 1.45021196, 1.47147489, 1.5187021 ,\n",
       "        1.79510504, 1.88788204, 1.96017326, 2.17456193, 2.21888237,\n",
       "        2.33598851, 2.3409874 , 2.34592334, 2.47366765, 2.56741331,\n",
       "        2.84025667, 2.85072086, 2.85290972, 2.90943536, 3.00204966,\n",
       "        3.00592553, 3.070495  , 3.09610505, 3.12003801, 3.16995685,\n",
       "        3.20698247, 3.29265134, 3.53740023, 3.60908336, 3.65297429,\n",
       "        3.85454819, 4.32172419, 4.33154939, 4.66729696, 4.73425393,\n",
       "        4.85321495, 4.9803746 , 5.14311399, 5.1948074 , 5.23352751,\n",
       "        5.25676758, 5.32508335, 5.70209543, 5.9634428 , 6.11471296,\n",
       "        6.13939283, 6.2840639 , 6.33535371, 6.35559958, 6.52124655,\n",
       "        6.67974449, 6.69402445, 6.80723323, 6.95956923, 7.2919006 ,\n",
       "        7.34876677, 7.43442572, 7.77418683, 7.94556608, 8.11554506,\n",
       "        8.32329098, 8.40009888, 8.48356657, 8.48563007, 8.62138962,\n",
       "        8.63054428, 8.66939786, 8.72424211, 9.17400719, 9.21138915,\n",
       "        9.22440909, 9.31371371, 9.37998672, 9.40418287, 9.60682835,\n",
       "        9.62911159, 9.68029066, 9.71172197, 9.75279013, 9.8992925 ]),\n",
       " array([1, 1, 1, 1, 1, 1, 1, 1, 1, 1, 1, 1, 1, 1, 1, 1, 1, 1, 1, 1, 1, 1,\n",
       "        1, 1, 1, 1, 1, 1, 1, 1, 1, 1, 1, 1, 1, 1, 1, 1, 1, 1, 1, 1, 1, 1,\n",
       "        1, 1, 1, 1, 1, 1, 1, 1, 1, 1, 1, 1, 1, 1, 1, 1, 1, 1, 1, 1, 1, 1,\n",
       "        1, 1, 1, 1, 1, 1, 1, 1, 1, 1, 1, 1, 1, 1, 1, 1, 1, 1, 1, 1, 1, 1,\n",
       "        1, 1, 1, 1, 1, 1, 1, 1, 1, 1, 1, 1], dtype=int64),\n",
       " 100,\n",
       " 100)"
      ]
     },
     "execution_count": 74,
     "metadata": {},
     "output_type": "execute_result"
    }
   ],
   "source": [
    "# Get the counts.\n",
    "values, counts = np.unique(x, return_counts=True)\n",
    "\n",
    "# Show.\n",
    "values, counts, values.size, counts.size"
   ]
  },
  {
   "cell_type": "code",
   "execution_count": 75,
   "metadata": {},
   "outputs": [
    {
     "data": {
      "text/plain": [
       "array([3.63822714, 3.48769808, 6.46122431, 7.85408419, 5.00504804,\n",
       "       8.02506621, 9.42832085, 5.46016494, 7.29130706, 8.94285192,\n",
       "       7.11095629, 0.96840743, 4.2939436 , 5.33492915, 3.68942406,\n",
       "       3.36182826, 4.08354091, 3.10537272, 2.33466842, 0.66844766,\n",
       "       5.91884141, 1.68989259, 2.26433032, 1.87614274, 9.47180602,\n",
       "       0.37688   , 7.70320657, 1.86252001, 4.91212337, 5.08861002,\n",
       "       1.50786311, 1.6926369 , 7.49106386, 5.66960774, 1.53154504,\n",
       "       4.94595686, 3.72063115, 6.71727927, 0.28537635, 2.40824328,\n",
       "       5.10721136, 7.69684222, 7.38691444, 7.00472246, 8.04616398,\n",
       "       8.45790786, 1.67378113, 3.64604437, 4.79924047, 6.77542711,\n",
       "       4.91638146, 4.31582215, 3.10301048, 9.88066448, 3.59909117,\n",
       "       9.90125732, 7.50694041, 8.94647656, 7.72576666, 1.01572209,\n",
       "       6.56358099, 2.84730185, 5.38309435, 6.2410365 , 8.62252371,\n",
       "       9.59144033, 9.28826853, 4.40198904, 3.79486881, 5.90464426,\n",
       "       6.64883443, 0.57529003, 4.35749113, 2.86443723, 6.51857341,\n",
       "       7.4563446 , 6.39748414, 0.63227298, 7.90202693, 3.96126936,\n",
       "       2.25563469, 1.84778859, 4.6338998 , 7.65594084, 7.22178826,\n",
       "       5.343177  , 9.09616968, 1.60012898, 8.21617061, 6.97853496,\n",
       "       5.94237384, 6.96326056, 1.06363764, 8.26587704, 3.32207606,\n",
       "       9.22410504, 5.52585484, 0.95180582, 3.19251382, 7.13000686])"
      ]
     },
     "execution_count": 75,
     "metadata": {},
     "output_type": "execute_result"
    }
   ],
   "source": [
    "# Generete 100 floats uniformly distributed over the range (0, 10).\n",
    "x = rng.uniform(low=0.0, high=10.0, size=100)\n",
    "\n",
    "# Show.\n",
    "x"
   ]
  },
  {
   "cell_type": "code",
   "execution_count": 76,
   "metadata": {},
   "outputs": [
    {
     "data": {
      "text/plain": [
       "<BarContainer object of 100 artists>"
      ]
     },
     "execution_count": 76,
     "metadata": {},
     "output_type": "execute_result"
    },
    {
     "data": {
      "image/png": "[encoded data removed]",
      "text/plain": [
       "<Figure size 640x480 with 1 Axes>"
      ]
     },
     "metadata": {},
     "output_type": "display_data"
    }
   ],
   "source": [
    "# Plot the bar chart.\n",
    "plt.bar(values, counts, edgecolor='black')"
   ]
  },
  {
   "cell_type": "code",
   "execution_count": 77,
   "metadata": {},
   "outputs": [
    {
     "data": {
      "text/plain": [
       "(array([ 0.,  1.,  2.,  3.,  4.,  5.,  6.,  7.,  8.,  9., 10.]),\n",
       " array([ 2,  7, 13,  8, 12, 12,  8, 15, 12,  8,  3], dtype=int64),\n",
       " 11,\n",
       " 11)"
      ]
     },
     "execution_count": 77,
     "metadata": {},
     "output_type": "execute_result"
    }
   ],
   "source": [
    "# Round values in x.\n",
    "x_rounded = np.round(x, decimals=0)\n",
    "\n",
    "# Get the counts.\n",
    "values, counts = np.unique(x_rounded, return_counts=True)\n",
    "\n",
    "# Show.\n",
    "values, counts, values.size, counts.size"
   ]
  },
  {
   "cell_type": "code",
   "execution_count": 78,
   "metadata": {},
   "outputs": [
    {
     "data": {
      "text/plain": [
       "<BarContainer object of 11 artists>"
      ]
     },
     "execution_count": 78,
     "metadata": {},
     "output_type": "execute_result"
    },
    {
     "data": {
      "image/png": "[encoded data removed]",
      "text/plain": [
       "<Figure size 640x480 with 1 Axes>"
      ]
     },
     "metadata": {},
     "output_type": "display_data"
    }
   ],
   "source": [
    "# Plot the bar chart.\n",
    "plt.bar(values, counts, edgecolor='black')\n"
   ]
  },
  {
   "cell_type": "code",
   "execution_count": null,
   "metadata": {},
   "outputs": [],
   "source": []
  },
  {
   "cell_type": "markdown",
   "metadata": {},
   "source": [
    "***\n",
    "### End"
   ]
  }
 ],
 "metadata": {
  "kernelspec": {
   "display_name": "base",
   "language": "python",
   "name": "python3"
  },
  "language_info": {
   "codemirror_mode": {
    "name": "ipython",
    "version": 3
   },
   "file_extension": ".py",
   "mimetype": "text/x-python",
   "name": "python",
   "nbconvert_exporter": "python",
   "pygments_lexer": "ipython3",
   "version": "3.11.7"
  }
 },
 "nbformat": 4,
 "nbformat_minor": 2
}
