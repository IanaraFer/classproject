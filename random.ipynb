{
 "cells": [
  {
   "cell_type": "markdown",
   "metadata": {},
   "source": [
    "# Random Numbers\n",
    "***\n"
   ]
  },
  {
   "cell_type": "markdown",
   "metadata": {},
   "source": [
    "## Prequisites\n",
    "***\n",
    "\n",
    "https://numpy.org/doc/stable/reference/random/index.html\n"
   ]
  },
  {
   "cell_type": "code",
   "execution_count": 1,
   "metadata": {},
   "outputs": [],
   "source": [
    "# Numerical arrays and random numbers.\n",
    "import numpy as np\n"
   ]
  },
  {
   "cell_type": "markdown",
   "metadata": {},
   "source": [
    "## Prequisites\n",
    "***"
   ]
  },
  {
   "cell_type": "code",
   "execution_count": 25,
   "metadata": {},
   "outputs": [],
   "source": [
    "# Numerical arrays and rando numbers.\n",
    "import numpy as np\n",
    "\n",
    "# Plot.\n",
    "import matplotlib.pyplot as plt"
   ]
  },
  {
   "cell_type": "markdown",
   "metadata": {},
   "source": [
    "## Generate Random Integers\n",
    "***"
   ]
  },
  {
   "cell_type": "code",
   "execution_count": 5,
   "metadata": {},
   "outputs": [],
   "source": [
    "rng = np.random.default_rng()\n"
   ]
  },
  {
   "cell_type": "code",
   "execution_count": 6,
   "metadata": {},
   "outputs": [
    {
     "data": {
      "text/plain": [
       "0.06369197489564249"
      ]
     },
     "execution_count": 6,
     "metadata": {},
     "output_type": "execute_result"
    }
   ],
   "source": [
    "# Generate one random float uniformly distributed over the range [0, 1)\n",
    "rng.random()  \n",
    "0.06369197489564249  # may vary\n"
   ]
  },
  {
   "cell_type": "code",
   "execution_count": 13,
   "metadata": {},
   "outputs": [
    {
     "data": {
      "text/plain": [
       "array([ 0.44710913,  2.11267737,  1.63341524,  0.7425535 ,  0.77230979,\n",
       "        0.02779915, -0.86659088,  1.25858162, -0.59961458,  1.62953803])"
      ]
     },
     "execution_count": 13,
     "metadata": {},
     "output_type": "execute_result"
    }
   ],
   "source": [
    "# Generate an array of 10 numbers according to a unit Gaussian distribution.\n",
    "import array\n",
    "\n",
    "rng.standard_normal(10)  \n"
   ]
  },
  {
   "cell_type": "code",
   "execution_count": 23,
   "metadata": {},
   "outputs": [
    {
     "data": {
      "text/plain": [
       "array([9, 4, 2, 6, 0], dtype=int64)"
      ]
     },
     "execution_count": 23,
     "metadata": {},
     "output_type": "execute_result"
    }
   ],
   "source": [
    "# Generate an array of 5 integers uniformly over the range [0, 10).\n",
    "rng.integers(low=0, high=10, size=5)  \n"
   ]
  },
  {
   "cell_type": "code",
   "execution_count": 47,
   "metadata": {},
   "outputs": [
    {
     "data": {
      "text/plain": [
       "array([4, 8, 7, ..., 1, 9, 4], dtype=int64)"
      ]
     },
     "execution_count": 47,
     "metadata": {},
     "output_type": "execute_result"
    }
   ],
   "source": [
    "# Generate 10.000 integers over the range (0, 10).\n",
    "x = rng.integers(low=1, high=10, size=10000, endpoint=True)\n",
    "\n",
    "# Show x.\n",
    "x"
   ]
  },
  {
   "cell_type": "code",
   "execution_count": 50,
   "metadata": {},
   "outputs": [
    {
     "data": {
      "text/plain": [
       "(array([ 1,  2,  3,  4,  5,  6,  7,  8,  9, 10], dtype=int64),\n",
       " array([1013, 1057,  987, 1044,  989, 1010,  955, 1043,  962,  940],\n",
       "       dtype=int64))"
      ]
     },
     "execution_count": 50,
     "metadata": {},
     "output_type": "execute_result"
    }
   ],
   "source": [
    "# Get the counts.\n",
    "values, counts = np.unique(x, return_counts=True)\n",
    "\n",
    "# Show.\n",
    "values, counts"
   ]
  },
  {
   "cell_type": "code",
   "execution_count": 51,
   "metadata": {},
   "outputs": [
    {
     "data": {
      "text/plain": [
       "<BarContainer object of 10 artists>"
      ]
     },
     "execution_count": 51,
     "metadata": {},
     "output_type": "execute_result"
    },
    {
     "data": {
      "image/png": "[encoded data removed]",
      "text/plain": [
       "<Figure size 640x480 with 1 Axes>"
      ]
     },
     "metadata": {},
     "output_type": "display_data"
    }
   ],
   "source": [
    "# Plot the bar chart.\n",
    "plt.bar(values, counts)\n"
   ]
  },
  {
   "cell_type": "markdown",
   "metadata": {},
   "source": [
    "## Uniform Distribution\n",
    "***"
   ]
  },
  {
   "cell_type": "code",
   "execution_count": 73,
   "metadata": {},
   "outputs": [
    {
     "data": {
      "text/plain": [
       "array([1.11482369, 4.66729696, 2.21888237, 2.85290972, 9.60682835,\n",
       "       3.65297429, 4.32172419, 2.34592334, 1.18191704, 5.25676758,\n",
       "       4.9803746 , 9.68029066, 0.12425681, 9.31371371, 5.70209543,\n",
       "       1.4117169 , 5.32508335, 8.48563007, 3.00592553, 8.40009888,\n",
       "       0.13556571, 3.85454819, 3.00204966, 1.88788204, 7.77418683,\n",
       "       8.72424211, 0.26541766, 7.43442572, 6.95956923, 7.34876677,\n",
       "       1.45021196, 4.85321495, 2.84025667, 1.29071642, 6.13939283,\n",
       "       1.47147489, 9.8992925 , 3.20698247, 0.43643421, 8.66939786,\n",
       "       0.2926237 , 1.19068177, 2.90943536, 2.17456193, 1.96017326,\n",
       "       1.5187021 , 8.11554506, 6.52124655, 0.39377925, 6.2840639 ,\n",
       "       6.80723323, 3.53740023, 1.31859977, 8.32329098, 8.62138962,\n",
       "       9.21138915, 1.44843974, 5.14311399, 9.40418287, 9.71172197,\n",
       "       5.9634428 , 3.60908336, 8.48356657, 0.29154593, 9.22440909,\n",
       "       9.37998672, 4.73425393, 3.16995685, 2.85072086, 6.33535371,\n",
       "       0.92997204, 0.31465145, 2.3409874 , 7.94556608, 3.12003801,\n",
       "       0.10776492, 0.26800488, 3.070495  , 2.47366765, 5.23352751,\n",
       "       3.09610505, 9.62911159, 6.11471296, 5.1948074 , 6.35559958,\n",
       "       0.28254271, 9.75279013, 0.52732297, 6.67974449, 2.56741331,\n",
       "       0.29515189, 1.79510504, 6.69402445, 7.2919006 , 2.33598851,\n",
       "       9.17400719, 4.33154939, 0.71617252, 8.63054428, 3.29265134])"
      ]
     },
     "execution_count": 73,
     "metadata": {},
     "output_type": "execute_result"
    }
   ],
   "source": [
    "# Generete 10.000 floats uniformly distributed over the range (0, 10).\n",
    "x = rng.uniform(low=0.0, high=10.0, size=100)\n",
    "\n",
    "# Show.\n",
    "x"
   ]
  },
  {
   "cell_type": "code",
   "execution_count": 74,
   "metadata": {},
   "outputs": [
    {
     "data": {
      "text/plain": [
       "(array([0.10776492, 0.12425681, 0.13556571, 0.26541766, 0.26800488,\n",
       "        0.28254271, 0.29154593, 0.2926237 , 0.29515189, 0.31465145,\n",
       "        0.39377925, 0.43643421, 0.52732297, 0.71617252, 0.92997204,\n",
       "        1.11482369, 1.18191704, 1.19068177, 1.29071642, 1.31859977,\n",
       "        1.4117169 , 1.44843974, 1.45021196, 1.47147489, 1.5187021 ,\n",
       "        1.79510504, 1.88788204, 1.96017326, 2.17456193, 2.21888237,\n",
       "        2.33598851, 2.3409874 , 2.34592334, 2.47366765, 2.56741331,\n",
       "        2.84025667, 2.85072086, 2.85290972, 2.90943536, 3.00204966,\n",
       "        3.00592553, 3.070495  , 3.09610505, 3.12003801, 3.16995685,\n",
       "        3.20698247, 3.29265134, 3.53740023, 3.60908336, 3.65297429,\n",
       "        3.85454819, 4.32172419, 4.33154939, 4.66729696, 4.73425393,\n",
       "        4.85321495, 4.9803746 , 5.14311399, 5.1948074 , 5.23352751,\n",
       "        5.25676758, 5.32508335, 5.70209543, 5.9634428 , 6.11471296,\n",
       "        6.13939283, 6.2840639 , 6.33535371, 6.35559958, 6.52124655,\n",
       "        6.67974449, 6.69402445, 6.80723323, 6.95956923, 7.2919006 ,\n",
       "        7.34876677, 7.43442572, 7.77418683, 7.94556608, 8.11554506,\n",
       "        8.32329098, 8.40009888, 8.48356657, 8.48563007, 8.62138962,\n",
       "        8.63054428, 8.66939786, 8.72424211, 9.17400719, 9.21138915,\n",
       "        9.22440909, 9.31371371, 9.37998672, 9.40418287, 9.60682835,\n",
       "        9.62911159, 9.68029066, 9.71172197, 9.75279013, 9.8992925 ]),\n",
       " array([1, 1, 1, 1, 1, 1, 1, 1, 1, 1, 1, 1, 1, 1, 1, 1, 1, 1, 1, 1, 1, 1,\n",
       "        1, 1, 1, 1, 1, 1, 1, 1, 1, 1, 1, 1, 1, 1, 1, 1, 1, 1, 1, 1, 1, 1,\n",
       "        1, 1, 1, 1, 1, 1, 1, 1, 1, 1, 1, 1, 1, 1, 1, 1, 1, 1, 1, 1, 1, 1,\n",
       "        1, 1, 1, 1, 1, 1, 1, 1, 1, 1, 1, 1, 1, 1, 1, 1, 1, 1, 1, 1, 1, 1,\n",
       "        1, 1, 1, 1, 1, 1, 1, 1, 1, 1, 1, 1], dtype=int64),\n",
       " 100,\n",
       " 100)"
      ]
     },
     "execution_count": 74,
     "metadata": {},
     "output_type": "execute_result"
    }
   ],
   "source": [
    "# Get the counts.\n",
    "values, counts = np.unique(x, return_counts=True)\n",
    "\n",
    "# Show.\n",
    "values, counts, values.size, counts.size"
   ]
  },
  {
   "cell_type": "code",
   "execution_count": 75,
   "metadata": {},
   "outputs": [
    {
     "data": {
      "text/plain": [
       "array([3.63822714, 3.48769808, 6.46122431, 7.85408419, 5.00504804,\n",
       "       8.02506621, 9.42832085, 5.46016494, 7.29130706, 8.94285192,\n",
       "       7.11095629, 0.96840743, 4.2939436 , 5.33492915, 3.68942406,\n",
       "       3.36182826, 4.08354091, 3.10537272, 2.33466842, 0.66844766,\n",
       "       5.91884141, 1.68989259, 2.26433032, 1.87614274, 9.47180602,\n",
       "       0.37688   , 7.70320657, 1.86252001, 4.91212337, 5.08861002,\n",
       "       1.50786311, 1.6926369 , 7.49106386, 5.66960774, 1.53154504,\n",
       "       4.94595686, 3.72063115, 6.71727927, 0.28537635, 2.40824328,\n",
       "       5.10721136, 7.69684222, 7.38691444, 7.00472246, 8.04616398,\n",
       "       8.45790786, 1.67378113, 3.64604437, 4.79924047, 6.77542711,\n",
       "       4.91638146, 4.31582215, 3.10301048, 9.88066448, 3.59909117,\n",
       "       9.90125732, 7.50694041, 8.94647656, 7.72576666, 1.01572209,\n",
       "       6.56358099, 2.84730185, 5.38309435, 6.2410365 , 8.62252371,\n",
       "       9.59144033, 9.28826853, 4.40198904, 3.79486881, 5.90464426,\n",
       "       6.64883443, 0.57529003, 4.35749113, 2.86443723, 6.51857341,\n",
       "       7.4563446 , 6.39748414, 0.63227298, 7.90202693, 3.96126936,\n",
       "       2.25563469, 1.84778859, 4.6338998 , 7.65594084, 7.22178826,\n",
       "       5.343177  , 9.09616968, 1.60012898, 8.21617061, 6.97853496,\n",
       "       5.94237384, 6.96326056, 1.06363764, 8.26587704, 3.32207606,\n",
       "       9.22410504, 5.52585484, 0.95180582, 3.19251382, 7.13000686])"
      ]
     },
     "execution_count": 75,
     "metadata": {},
     "output_type": "execute_result"
    }
   ],
   "source": [
    "# Generete 100 floats uniformly distributed over the range (0, 10).\n",
    "x = rng.uniform(low=0.0, high=10.0, size=100)\n",
    "\n",
    "# Show.\n",
    "x"
   ]
  },
  {
   "cell_type": "code",
   "execution_count": 76,
   "metadata": {},
   "outputs": [
    {
     "data": {
      "text/plain": [
       "<BarContainer object of 100 artists>"
      ]
     },
     "execution_count": 76,
     "metadata": {},
     "output_type": "execute_result"
    },
    {
     "data": {
      "image/png": "[encoded data removed]",
      "text/plain": [
       "<Figure size 640x480 with 1 Axes>"
      ]
     },
     "metadata": {},
     "output_type": "display_data"
    }
   ],
   "source": [
    "# Plot the bar chart.\n",
    "plt.bar(values, counts, edgecolor='black')"
   ]
  },
  {
   "cell_type": "code",
   "execution_count": 77,
   "metadata": {},
   "outputs": [
    {
     "data": {
      "text/plain": [
       "(array([ 0.,  1.,  2.,  3.,  4.,  5.,  6.,  7.,  8.,  9., 10.]),\n",
       " array([ 2,  7, 13,  8, 12, 12,  8, 15, 12,  8,  3], dtype=int64),\n",
       " 11,\n",
       " 11)"
      ]
     },
     "execution_count": 77,
     "metadata": {},
     "output_type": "execute_result"
    }
   ],
   "source": [
    "# Round values in x.\n",
    "x_rounded = np.round(x, decimals=0)\n",
    "\n",
    "# Get the counts.\n",
    "values, counts = np.unique(x_rounded, return_counts=True)\n",
    "\n",
    "# Show.\n",
    "values, counts, values.size, counts.size"
   ]
  },
  {
   "cell_type": "code",
   "execution_count": 78,
   "metadata": {},
   "outputs": [
    {
     "data": {
      "text/plain": [
       "<BarContainer object of 11 artists>"
      ]
     },
     "execution_count": 78,
     "metadata": {},
     "output_type": "execute_result"
    },
    {
     "data": {
      "image/png": "[encoded data removed]",
      "text/plain": [
       "<Figure size 640x480 with 1 Axes>"
      ]
     },
     "metadata": {},
     "output_type": "display_data"
    }
   ],
   "source": [
    "# Plot the bar chart.\n",
    "plt.bar(values, counts, edgecolor='black')\n"
   ]
  },
  {
   "cell_type": "markdown",
   "metadata": {},
   "source": [
    "## Histogram\n",
    "***"
   ]
  },
  {
   "cell_type": "code",
   "execution_count": 80,
   "metadata": {},
   "outputs": [
    {
     "data": {
      "text/plain": [
       "array([9.20217528e+00, 8.52222772e+00, 5.33652850e+00, 8.95723641e+00,\n",
       "       7.27445967e+00, 5.77095825e+00, 4.22629502e-01, 4.63733367e+00,\n",
       "       9.99841458e+00, 6.97065054e-01, 6.52941249e+00, 9.29126236e+00,\n",
       "       9.53576915e+00, 7.77765521e-01, 9.05915166e+00, 7.33155305e+00,\n",
       "       1.79030192e+00, 8.00863979e+00, 9.21567061e+00, 7.15731253e+00,\n",
       "       4.30765174e+00, 5.33577198e+00, 7.44881731e+00, 9.20596887e+00,\n",
       "       9.90883512e+00, 3.83207328e+00, 2.52316179e+00, 7.07157474e+00,\n",
       "       3.14361398e-01, 1.92123815e+00, 8.75182426e-01, 7.25317259e+00,\n",
       "       1.63184626e+00, 3.84779707e+00, 5.32456235e+00, 2.96162350e+00,\n",
       "       9.80051606e+00, 7.21190355e+00, 7.95403995e+00, 3.90117219e-01,\n",
       "       8.65622123e+00, 1.24530703e+00, 4.55465473e+00, 1.02585012e+00,\n",
       "       2.72853816e+00, 4.28764265e+00, 4.01232149e+00, 7.84347142e+00,\n",
       "       8.50594471e+00, 9.77307979e+00, 1.08133318e+00, 7.74725310e+00,\n",
       "       6.73366280e+00, 2.78219619e+00, 1.38877055e+00, 8.46598227e+00,\n",
       "       9.73644806e-01, 5.27579613e+00, 4.70881235e+00, 5.54883429e+00,\n",
       "       6.36971705e+00, 3.09766175e+00, 7.31458083e+00, 9.82324894e+00,\n",
       "       1.99324521e+00, 3.43858383e+00, 5.92067842e+00, 9.92713120e+00,\n",
       "       4.62584403e+00, 1.71919661e+00, 3.16445737e+00, 2.62226754e+00,\n",
       "       4.43865482e+00, 6.80230514e+00, 4.63598532e+00, 5.02941799e-01,\n",
       "       5.89150198e+00, 7.06214998e+00, 4.94335107e+00, 6.06971428e+00,\n",
       "       1.63758189e+00, 8.14030311e+00, 8.41880595e+00, 6.87546667e+00,\n",
       "       6.87125067e+00, 5.80023848e+00, 8.83150039e+00, 9.78583603e+00,\n",
       "       3.06462368e+00, 2.68130561e+00, 7.72315899e+00, 9.29861773e+00,\n",
       "       7.26917646e+00, 2.63018065e+00, 3.32312825e+00, 1.06866695e+00,\n",
       "       9.08923080e+00, 6.50356663e+00, 4.28342167e+00, 3.69046665e+00,\n",
       "       5.26686144e-01, 5.58002713e+00, 8.18826517e+00, 6.14086197e+00,\n",
       "       2.47132008e+00, 8.44417392e-01, 8.10863506e+00, 2.21505407e+00,\n",
       "       2.94219472e+00, 8.29576198e+00, 1.34103256e+00, 3.78718859e+00,\n",
       "       8.32956415e+00, 9.98447910e+00, 9.26281691e+00, 7.21892751e+00,\n",
       "       4.40751779e-02, 9.96528128e-01, 8.19737105e+00, 3.69747880e+00,\n",
       "       8.10143662e-01, 7.92353569e-01, 5.31865877e+00, 8.20205073e+00,\n",
       "       9.31886451e+00, 3.47575241e+00, 8.58466303e+00, 5.85896958e+00,\n",
       "       9.80360194e+00, 3.53713447e+00, 9.97609824e+00, 6.95341685e+00,\n",
       "       7.51025466e+00, 4.39640660e+00, 7.93698304e+00, 1.93369654e+00,\n",
       "       4.39658664e+00, 5.01431816e-01, 4.69139948e+00, 8.99224541e+00,\n",
       "       9.18554373e+00, 8.45471882e+00, 4.14929677e+00, 6.34778056e+00,\n",
       "       1.56264357e-01, 6.70512520e+00, 8.24490476e-01, 3.85687744e+00,\n",
       "       9.05902437e+00, 9.20148593e+00, 7.91656518e+00, 8.98940319e+00,\n",
       "       9.17591220e+00, 7.75265190e+00, 2.79840803e+00, 6.43295602e+00,\n",
       "       2.01509173e+00, 5.28660301e+00, 6.64046556e+00, 1.86871636e+00,\n",
       "       8.39295749e+00, 5.08311045e+00, 1.21619439e+00, 4.34858355e+00,\n",
       "       4.25545768e-01, 2.42235052e+00, 7.76356437e+00, 9.12876415e+00,\n",
       "       1.60585274e+00, 8.02142824e+00, 5.73754965e+00, 1.36377879e+00,\n",
       "       1.81839431e+00, 1.75813638e+00, 9.73365377e+00, 9.03207305e+00,\n",
       "       8.92246249e-01, 8.51161003e+00, 3.75183984e+00, 7.99821247e+00,\n",
       "       7.95055955e+00, 4.16559555e+00, 5.43831952e+00, 4.01629761e+00,\n",
       "       8.82003292e+00, 8.90162779e+00, 4.20735058e+00, 7.19970505e+00,\n",
       "       9.94636034e+00, 6.64191718e+00, 4.18914012e+00, 4.41626826e+00,\n",
       "       6.84615533e+00, 3.73550483e+00, 7.65598519e+00, 4.88717938e+00,\n",
       "       8.82127245e+00, 6.54629667e+00, 2.04056920e-01, 4.29346321e-01,\n",
       "       8.28707646e+00, 6.91374168e-01, 7.68010819e+00, 4.45044146e+00,\n",
       "       7.10619545e+00, 6.75264418e+00, 1.07549293e+00, 8.58352562e-01,\n",
       "       9.87280476e+00, 2.42361069e-01, 4.68105927e+00, 1.93227481e+00,\n",
       "       1.38302639e+00, 2.36474189e+00, 6.84654040e+00, 1.15185904e+00,\n",
       "       3.09437984e+00, 7.08599920e+00, 4.66870384e+00, 2.73977916e-01,\n",
       "       8.19731089e+00, 4.42249880e+00, 3.33892926e+00, 5.08728126e+00,\n",
       "       2.54759097e+00, 8.28049992e+00, 3.17799853e+00, 8.53374822e+00,\n",
       "       3.70628228e+00, 1.91663606e+00, 5.47935953e+00, 9.78028409e+00,\n",
       "       4.62332132e+00, 3.50382587e+00, 9.23606405e+00, 5.88680599e+00,\n",
       "       2.13927800e+00, 8.85441844e+00, 1.61421618e+00, 9.44330070e+00,\n",
       "       1.54406368e+00, 7.18030972e+00, 8.51948831e+00, 6.67191375e+00,\n",
       "       9.17182969e+00, 4.34006136e+00, 1.84236055e+00, 2.66733192e+00,\n",
       "       9.42327679e+00, 1.60536487e-01, 3.96278092e+00, 4.63206834e-02,\n",
       "       3.34353819e+00, 1.27130713e+00, 2.12122314e+00, 8.70963086e+00,\n",
       "       2.60066323e+00, 4.48596822e-01, 5.40931898e-01, 2.84656093e+00,\n",
       "       3.71138912e+00, 3.76780132e+00, 2.65655746e-01, 1.61222882e+00,\n",
       "       2.31301977e+00, 7.21609102e+00, 5.80026833e+00, 7.90763451e+00,\n",
       "       4.39406255e+00, 5.06889281e+00, 3.36455025e+00, 6.44768000e+00,\n",
       "       8.55623664e+00, 9.53500348e+00, 2.48375776e-01, 5.51855904e+00,\n",
       "       8.77926513e+00, 7.20586886e+00, 5.65132040e+00, 6.35002025e+00,\n",
       "       5.59039680e+00, 9.60290847e+00, 4.60759184e-01, 7.19910198e+00,\n",
       "       7.03762373e+00, 2.92961123e+00, 6.27413418e+00, 4.81242123e+00,\n",
       "       3.89501935e+00, 5.92512186e+00, 3.95693895e+00, 5.86311873e+00,\n",
       "       4.02569510e+00, 2.16372561e+00, 1.25255958e+00, 4.30823798e+00,\n",
       "       5.77150097e+00, 3.56242823e+00, 7.68875299e+00, 5.72488544e+00,\n",
       "       4.67807687e+00, 2.21685106e+00, 9.06353734e+00, 3.41811706e+00,\n",
       "       5.54973128e+00, 6.54224732e+00, 8.70021462e+00, 5.86744635e+00,\n",
       "       2.59616346e+00, 8.67361719e+00, 5.52513666e+00, 2.66899672e-01,\n",
       "       4.15668089e+00, 5.15292459e+00, 8.42744333e+00, 9.18820020e+00,\n",
       "       7.99900784e+00, 7.36971157e+00, 2.91874160e+00, 8.39675654e+00,\n",
       "       8.48237100e+00, 3.26108931e+00, 6.02927094e+00, 6.70290317e+00,\n",
       "       3.30261096e+00, 3.81356387e+00, 9.79114283e+00, 3.74083160e+00,\n",
       "       9.20322667e+00, 7.02683556e+00, 7.69831777e+00, 9.25992260e+00,\n",
       "       2.54103822e+00, 8.05933471e+00, 2.54997957e+00, 9.91309746e+00,\n",
       "       6.28140816e+00, 7.90351091e+00, 8.10339045e+00, 8.90089035e+00,\n",
       "       3.42622780e+00, 9.75495128e+00, 9.46758544e+00, 8.96699656e+00,\n",
       "       6.49751202e+00, 8.28311266e+00, 2.09660737e+00, 1.33463564e+00,\n",
       "       5.47011319e+00, 4.41439644e+00, 8.90520732e+00, 5.20697957e+00,\n",
       "       1.35790234e+00, 6.62346172e+00, 3.01883162e-01, 4.94898734e+00,\n",
       "       5.87539176e+00, 5.63730053e+00, 3.92304571e+00, 8.69538812e-01,\n",
       "       3.80477270e-01, 1.58868459e+00, 7.59856449e+00, 5.49600219e+00,\n",
       "       1.40396690e+00, 8.26489995e+00, 2.55562195e+00, 3.12218965e+00,\n",
       "       7.99305310e+00, 4.37120899e+00, 7.06960765e+00, 1.03617434e+00,\n",
       "       3.23958221e+00, 8.42063448e+00, 2.59763535e+00, 1.87975187e+00,\n",
       "       2.98960725e+00, 4.06581340e+00, 6.24360453e+00, 2.62075228e+00,\n",
       "       9.30790430e+00, 7.61422742e+00, 6.21791866e+00, 6.62256831e+00,\n",
       "       6.41999837e-01, 4.22905739e+00, 5.16264782e+00, 1.42705474e+00,\n",
       "       1.66068489e+00, 9.99475704e+00, 6.59095407e+00, 8.63735233e+00,\n",
       "       4.15852952e+00, 6.33961882e+00, 2.09993185e+00, 1.84029538e-01,\n",
       "       2.00792870e+00, 3.18710624e+00, 5.21081398e+00, 9.47179714e-01,\n",
       "       3.01980194e-01, 7.22925748e+00, 8.43280289e-01, 8.74818411e+00,\n",
       "       5.39363332e+00, 6.96884897e-01, 7.92772594e+00, 2.57635551e+00,\n",
       "       1.78270928e+00, 1.67130820e+00, 8.83800543e+00, 9.37090081e+00,\n",
       "       9.78380599e+00, 8.51148873e+00, 3.98436345e+00, 5.65562963e+00,\n",
       "       2.88644437e+00, 6.34797690e+00, 9.81822332e+00, 4.67975928e+00,\n",
       "       1.17120398e+00, 4.82367073e+00, 5.11223913e-02, 9.60415977e+00,\n",
       "       8.89611672e+00, 2.52660219e+00, 5.81474419e+00, 2.75246247e+00,\n",
       "       6.46417776e+00, 9.55863020e+00, 7.91408449e-01, 5.58231569e+00,\n",
       "       2.75526053e-01, 8.19425150e+00, 6.98718298e+00, 8.17003239e+00,\n",
       "       1.81801915e+00, 1.36313812e+00, 1.68720626e+00, 6.13477741e+00,\n",
       "       6.76000612e-01, 7.87142438e+00, 8.38408886e+00, 5.86912214e+00,\n",
       "       8.88815563e+00, 2.32421940e+00, 1.19771179e-01, 9.23949732e+00,\n",
       "       2.65541010e+00, 9.51504748e+00, 7.17246368e+00, 8.18159311e-01,\n",
       "       5.80041726e+00, 6.61860363e+00, 9.37544501e-01, 5.06898591e+00,\n",
       "       6.55560370e-01, 7.10991867e+00, 2.33484301e+00, 6.90015750e-01,\n",
       "       4.21771879e+00, 7.99426775e+00, 8.80841921e+00, 7.74774913e+00,\n",
       "       6.10046178e+00, 6.32766588e+00, 2.10676846e+00, 1.87951950e+00,\n",
       "       2.23254044e+00, 2.85705102e+00, 1.15963007e+00, 7.22836645e+00,\n",
       "       7.56266389e+00, 7.65648198e+00, 9.00305641e+00, 4.12272884e+00,\n",
       "       2.11768171e+00, 5.31875767e+00, 2.70661477e+00, 3.86657264e+00,\n",
       "       1.57683912e+00, 7.80439594e+00, 5.30411058e+00, 1.64785060e+00,\n",
       "       7.05665883e+00, 4.48139534e+00, 1.97480460e+00, 4.77284064e+00,\n",
       "       2.23785796e+00, 5.87344342e+00, 7.26091257e+00, 5.19463740e+00,\n",
       "       5.83960068e+00, 3.12811903e-01, 7.81418259e+00, 8.77693964e+00,\n",
       "       1.30622387e+00, 5.74458117e+00, 9.62948234e+00, 7.01233795e+00,\n",
       "       5.85999535e+00, 5.62107131e+00, 9.92554584e+00, 4.34513179e+00,\n",
       "       3.89988305e-01, 8.00253330e+00, 8.72708812e+00, 4.17840878e+00,\n",
       "       5.36104569e+00, 3.82375510e+00, 2.87724732e-01, 2.93967763e+00,\n",
       "       9.61433115e+00, 6.14023981e+00, 6.82377469e+00, 9.54419931e+00,\n",
       "       9.61101784e+00, 9.57545443e+00, 4.91761288e+00, 3.70317437e+00,\n",
       "       7.26582453e+00, 9.40340022e+00, 4.57217351e+00, 1.04029560e+00,\n",
       "       5.31627588e+00, 2.67046239e+00, 2.14718027e+00, 7.65534528e+00,\n",
       "       3.97214006e+00, 8.73924397e+00, 8.30995133e+00, 7.10298142e+00,\n",
       "       3.16656925e+00, 2.54884034e+00, 9.43065494e+00, 2.65407004e+00,\n",
       "       6.40638787e-01, 4.58652715e+00, 8.65201000e+00, 4.45092380e+00,\n",
       "       8.93864888e+00, 9.55242293e+00, 6.14979648e+00, 6.12715141e+00,\n",
       "       5.01238953e+00, 4.96830804e+00, 2.22289586e+00, 3.61840035e+00,\n",
       "       7.15226981e+00, 8.00412142e-01, 7.29131120e+00, 3.57360508e+00,\n",
       "       5.36767135e-01, 1.23132796e+00, 3.51589573e+00, 4.16385681e+00,\n",
       "       1.97728405e+00, 7.67384762e+00, 6.63425292e+00, 7.91260093e+00,\n",
       "       4.82546646e+00, 9.52466880e+00, 4.97458347e+00, 7.53467508e+00,\n",
       "       5.06379105e+00, 8.82881210e+00, 2.89087969e+00, 5.33404945e+00,\n",
       "       9.86550351e+00, 6.54856579e+00, 4.09309451e+00, 3.55234035e+00,\n",
       "       2.12498682e+00, 4.07542460e+00, 8.94180895e-01, 9.63819797e+00,\n",
       "       4.00725985e+00, 4.39477408e+00, 1.45211585e+00, 5.91064010e+00,\n",
       "       5.55824378e+00, 2.43370959e+00, 4.03278199e+00, 5.36390450e+00,\n",
       "       6.18440805e+00, 6.08102830e+00, 1.19700471e+00, 6.49930119e+00,\n",
       "       7.52716128e+00, 7.31308431e+00, 1.81495609e+00, 9.42664846e+00,\n",
       "       9.14572067e+00, 2.13662477e+00, 8.73565526e+00, 6.80308299e+00,\n",
       "       7.84307973e-01, 4.62395770e+00, 8.96963706e+00, 8.42860050e+00,\n",
       "       5.67042855e+00, 6.13806845e+00, 9.36527952e+00, 1.61156535e+00,\n",
       "       1.37120645e+00, 3.18000938e+00, 4.48219858e+00, 8.65300361e+00,\n",
       "       2.73453385e+00, 2.86947942e+00, 2.10837005e-01, 3.03872581e+00,\n",
       "       6.85142593e+00, 3.91172813e+00, 7.33214663e+00, 6.23571016e+00,\n",
       "       4.14664267e+00, 5.55314621e+00, 2.41429316e+00, 8.79398802e+00,\n",
       "       7.60435362e+00, 6.83669099e-01, 3.23457991e+00, 8.56507409e+00,\n",
       "       5.18675353e+00, 4.95999625e+00, 4.27119257e+00, 5.19551601e+00,\n",
       "       3.41317331e+00, 7.23955941e+00, 4.43736065e+00, 6.54790685e+00,\n",
       "       2.55305398e+00, 6.63252564e+00, 9.69386707e+00, 1.14258789e+00,\n",
       "       6.42221433e+00, 5.29317626e+00, 7.41622773e+00, 4.82302836e+00,\n",
       "       4.77262179e+00, 3.51979248e+00, 9.22518726e+00, 8.92709704e+00,\n",
       "       2.11036711e+00, 1.34049912e-01, 6.39232362e+00, 5.18740543e+00,\n",
       "       8.02900843e+00, 3.69555350e+00, 3.43465014e+00, 3.63307163e+00,\n",
       "       5.27747155e+00, 3.48287558e+00, 7.11003495e+00, 7.12728967e+00,\n",
       "       6.11445361e+00, 2.33834084e+00, 8.26902721e+00, 8.54352081e+00,\n",
       "       9.48565700e-01, 2.10728662e+00, 8.01469832e+00, 8.35971515e+00,\n",
       "       4.27719603e+00, 4.22115897e+00, 6.66897200e+00, 5.26097375e+00,\n",
       "       1.61326394e+00, 8.35698392e+00, 5.63196836e+00, 5.77286643e+00,\n",
       "       5.29819432e+00, 3.72981528e+00, 2.89286111e+00, 9.99100125e+00,\n",
       "       8.61830507e-01, 9.98323773e+00, 9.04560174e+00, 9.03009955e+00,\n",
       "       8.55718562e+00, 7.67540665e+00, 6.80402110e+00, 3.09420706e+00,\n",
       "       4.67316491e+00, 5.11625754e+00, 4.51268766e+00, 6.11243322e+00,\n",
       "       7.07649167e+00, 9.34095137e+00, 8.79991751e+00, 3.31000846e+00,\n",
       "       4.74381033e+00, 7.17802540e+00, 5.77894986e-01, 5.22705737e+00,\n",
       "       4.98921737e+00, 5.67311161e+00, 4.47706388e+00, 4.13184048e+00,\n",
       "       4.82545944e+00, 5.84682077e+00, 9.65145458e+00, 7.57112460e-01,\n",
       "       2.51273755e-01, 7.92435494e+00, 8.87840310e+00, 1.71550026e+00,\n",
       "       1.16410305e+00, 1.20051924e+00, 4.53708656e+00, 3.18568447e+00,\n",
       "       3.62480106e-01, 6.20048983e+00, 7.78662008e+00, 2.92728978e-01,\n",
       "       1.68058160e+00, 9.47831524e+00, 4.28475693e+00, 5.89568385e+00,\n",
       "       9.41915729e+00, 9.26953219e+00, 2.29579764e+00, 3.99868230e-01,\n",
       "       7.73943783e+00, 9.85019405e+00, 2.57856256e+00, 8.03460061e+00,\n",
       "       1.80797134e+00, 6.05983080e-01, 5.87258428e-02, 5.71654707e+00,\n",
       "       4.22460915e+00, 7.77157728e+00, 6.34818889e+00, 5.81766492e+00,\n",
       "       6.60698527e+00, 3.01857765e+00, 7.35749829e+00, 2.09701153e+00,\n",
       "       8.38659635e+00, 1.11482734e+00, 4.30861824e+00, 8.33191024e+00,\n",
       "       8.38138789e-01, 2.17915298e+00, 2.61411617e+00, 3.48268040e+00,\n",
       "       1.46315696e+00, 9.80735962e+00, 4.62081919e+00, 9.16588535e+00,\n",
       "       5.94766982e+00, 6.37867334e-01, 4.49451665e+00, 6.92597798e+00,\n",
       "       1.59642913e+00, 1.88920597e+00, 9.84208165e+00, 1.11149088e+00,\n",
       "       4.58894508e+00, 3.63991448e+00, 4.06892662e+00, 2.30102053e+00,\n",
       "       2.49383049e+00, 3.78097492e+00, 4.33171710e+00, 4.79068763e+00,\n",
       "       3.20004442e+00, 7.86293496e+00, 8.28991245e+00, 5.60068017e+00,\n",
       "       3.60058005e+00, 5.26356312e+00, 1.26375680e+00, 4.99702448e-01,\n",
       "       9.26724687e+00, 7.09497265e+00, 7.26472054e+00, 7.37017261e-01,\n",
       "       9.93621972e+00, 8.33329117e-02, 3.86588207e+00, 1.40485673e+00,\n",
       "       7.14364369e+00, 6.15800627e+00, 2.95821879e+00, 3.77246805e+00,\n",
       "       9.11999056e+00, 1.68687931e+00, 5.39760184e-01, 4.47203339e+00,\n",
       "       9.60941108e+00, 2.74960079e+00, 8.35281135e+00, 3.31610555e+00,\n",
       "       6.92878834e-01, 7.08359362e+00, 8.27910710e+00, 1.78578820e+00,\n",
       "       2.35425919e+00, 3.15377533e-01, 7.35811421e+00, 7.42552903e+00,\n",
       "       8.69813448e+00, 1.26186483e-01, 9.37731739e-01, 2.30587283e+00,\n",
       "       8.77655516e+00, 6.05374865e+00, 9.27048228e+00, 1.21985556e+00,\n",
       "       7.87865483e-01, 5.77835160e+00, 6.87709828e+00, 8.44870002e+00,\n",
       "       7.26416453e+00, 4.63415670e+00, 7.32074186e+00, 6.38966844e+00,\n",
       "       6.81973334e+00, 7.35062147e+00, 3.38047975e+00, 3.38572871e+00,\n",
       "       9.98541292e+00, 9.42847505e-01, 1.55720302e+00, 1.27340360e+00,\n",
       "       7.89120332e-01, 6.52742830e+00, 8.77741114e+00, 5.70917361e+00,\n",
       "       9.02947532e+00, 8.50217819e+00, 2.85282154e+00, 7.13820535e+00,\n",
       "       1.32165405e-01, 2.74478969e+00, 3.15379332e+00, 3.11108163e+00,\n",
       "       6.82600335e+00, 7.05488610e+00, 5.03787337e+00, 9.45786575e+00,\n",
       "       4.59185240e-01, 7.85971547e+00, 4.59022779e+00, 7.06060213e+00,\n",
       "       4.82401641e+00, 7.63131889e+00, 8.42986533e+00, 2.52512663e+00,\n",
       "       5.34981690e+00, 1.30567685e+00, 2.30404305e+00, 2.33299861e+00,\n",
       "       3.47398385e-01, 2.53875474e+00, 8.26247377e+00, 6.35497062e+00,\n",
       "       8.66239444e+00, 1.67147129e-01, 5.50910459e+00, 9.74528806e+00,\n",
       "       4.09043395e+00, 7.97926902e-01, 3.72700353e+00, 6.20443180e+00,\n",
       "       6.39145662e+00, 8.11789063e-01, 4.65262834e+00, 2.57259752e+00,\n",
       "       2.79338030e-01, 4.68050088e+00, 2.64434794e+00, 5.21293784e-01,\n",
       "       6.06848319e+00, 2.84398340e+00, 3.86558998e+00, 5.33844243e+00,\n",
       "       6.60500880e+00, 4.02205945e+00, 2.41747767e+00, 2.35183999e+00,\n",
       "       8.38958618e+00, 8.34245902e-01, 5.98252322e+00, 3.61151048e+00,\n",
       "       2.56191729e+00, 9.03108177e+00, 5.10784555e+00, 1.29728800e+00,\n",
       "       9.33073744e+00, 8.53385531e+00, 6.15866967e+00, 4.74592061e+00,\n",
       "       8.62629077e+00, 3.48850951e-01, 1.27731733e+00, 7.59189264e+00,\n",
       "       1.20583831e+00, 1.49418159e+00, 6.21504572e+00, 2.40597125e+00,\n",
       "       6.84429779e+00, 1.03468244e+00, 6.54713255e+00, 1.80862576e+00,\n",
       "       7.14264315e+00, 5.13132685e+00, 3.68549899e+00, 7.60087432e+00,\n",
       "       9.21495737e-01, 3.70138995e+00, 7.80376229e+00, 7.63917532e-02,\n",
       "       7.86803638e+00, 7.26361428e+00, 4.45406324e+00, 6.46698903e+00,\n",
       "       6.24133248e+00, 4.37552192e+00, 9.90002269e+00, 5.13370532e+00,\n",
       "       1.28133638e+00, 2.92365233e+00, 4.88160554e+00, 1.47487928e+00,\n",
       "       8.27573912e+00, 8.22447559e+00, 6.35023396e+00, 4.88833547e+00,\n",
       "       6.33050650e+00, 9.27965562e+00, 2.92493241e+00, 7.75171293e+00,\n",
       "       8.63392472e+00, 1.17428344e+00, 6.62681553e+00, 7.70979726e+00,\n",
       "       8.34342826e+00, 3.45071615e+00, 4.24033711e-01, 6.67233661e+00,\n",
       "       3.11162955e+00, 9.33911964e-01, 9.15803313e+00, 7.18374017e+00,\n",
       "       1.43757021e-01, 4.67308344e+00, 7.46507758e+00, 4.97443538e+00,\n",
       "       1.05496431e+00, 8.02089944e-03, 5.98424983e-01, 4.61428664e+00,\n",
       "       9.63855913e+00, 1.70856155e+00, 2.44305704e+00, 6.06595425e+00,\n",
       "       7.27718956e+00, 2.70913228e+00, 5.33183491e+00, 6.35902859e+00,\n",
       "       6.40980330e+00, 8.95321531e+00, 1.11592289e+00, 6.92783907e+00,\n",
       "       1.57982756e+00, 2.49613277e+00, 9.75233448e+00, 2.25042258e+00,\n",
       "       9.01338851e+00, 4.10270235e-01, 2.20570497e+00, 6.66757855e+00,\n",
       "       6.90858208e+00, 8.71954033e+00, 6.86246605e+00, 1.04593174e-01,\n",
       "       3.56359888e+00, 8.16935539e+00, 5.10151903e+00, 7.89431169e+00,\n",
       "       5.24163560e+00, 3.73658670e-01, 9.11546588e+00, 7.95981566e+00,\n",
       "       8.84881023e+00, 2.64913743e+00, 4.57452582e+00, 3.87953581e+00,\n",
       "       3.49539910e+00, 8.67537329e+00, 5.90591557e+00, 2.98433684e+00,\n",
       "       1.91309888e+00, 6.21222485e+00, 3.90561300e+00, 3.02441110e+00])"
      ]
     },
     "execution_count": 80,
     "metadata": {},
     "output_type": "execute_result"
    }
   ],
   "source": [
    "# Generete 10.000 floats uniformly distributed over the range (0, 10).\n",
    "x = rng.uniform(low=0.0, high=10.0, size=1000)\n",
    "\n",
    "# Show.\n",
    "x"
   ]
  },
  {
   "cell_type": "code",
   "execution_count": null,
   "metadata": {},
   "outputs": [],
   "source": [
    "# Get the counts.\n",
    "values, counts = np.unique(x, return_counts=True)\n",
    "\n",
    "# Show.\n",
    "values, counts, values.size, counts.size"
   ]
  },
  {
   "cell_type": "code",
   "execution_count": 85,
   "metadata": {},
   "outputs": [
    {
     "data": {
      "text/plain": [
       "(array([105.,  92.,  99.,  87., 105.,  97.,  96., 110., 107., 102.]),\n",
       " array([8.02089944e-03, 1.00706027e+00, 2.00609964e+00, 3.00513900e+00,\n",
       "        4.00417837e+00, 5.00321774e+00, 6.00225711e+00, 7.00129648e+00,\n",
       "        8.00033584e+00, 8.99937521e+00, 9.99841458e+00]),\n",
       " <BarContainer object of 10 artists>)"
      ]
     },
     "execution_count": 85,
     "metadata": {},
     "output_type": "execute_result"
    },
    {
     "data": {
      "image/png": "[encoded data removed]",
      "text/plain": [
       "<Figure size 640x480 with 1 Axes>"
      ]
     },
     "metadata": {},
     "output_type": "display_data"
    }
   ],
   "source": [
    "# Plot histogram\n",
    "plt.hist(x, edgecolor='black')"
   ]
  },
  {
   "cell_type": "markdown",
   "metadata": {},
   "source": [
    "## Standard normal\n",
    "***"
   ]
  },
  {
   "cell_type": "code",
   "execution_count": 98,
   "metadata": {},
   "outputs": [
    {
     "data": {
      "text/plain": [
       "array([ 1.72237351,  2.43873951, -0.45267613, ..., -0.45739071,\n",
       "       -1.08921005,  0.18702356])"
      ]
     },
     "execution_count": 98,
     "metadata": {},
     "output_type": "execute_result"
    }
   ],
   "source": [
    "# Generate an array of 10 numebers.\n",
    "x = rng.standard_normal(size=10000)\n",
    "\n",
    "# Show.\n",
    "x"
   ]
  },
  {
   "cell_type": "code",
   "execution_count": 99,
   "metadata": {},
   "outputs": [
    {
     "data": {
      "text/plain": [
       "(array([   8.,  115.,  512., 1669., 2889., 2773., 1464.,  483.,   79.,\n",
       "           8.]),\n",
       " array([-3.88096902, -3.09806851, -2.31516799, -1.53226748, -0.74936696,\n",
       "         0.03353356,  0.81643407,  1.59933459,  2.3822351 ,  3.16513562,\n",
       "         3.94803614]),\n",
       " <BarContainer object of 10 artists>)"
      ]
     },
     "execution_count": 99,
     "metadata": {},
     "output_type": "execute_result"
    },
    {
     "data": {
      "image/png": "[encoded data removed]",
      "text/plain": [
       "<Figure size 640x480 with 1 Axes>"
      ]
     },
     "metadata": {},
     "output_type": "display_data"
    }
   ],
   "source": [
    "# Plot histogram\n",
    "plt.hist(x, edgecolor='black')"
   ]
  },
  {
   "cell_type": "code",
   "execution_count": null,
   "metadata": {},
   "outputs": [],
   "source": []
  },
  {
   "cell_type": "code",
   "execution_count": null,
   "metadata": {},
   "outputs": [],
   "source": []
  },
  {
   "cell_type": "code",
   "execution_count": null,
   "metadata": {},
   "outputs": [],
   "source": []
  },
  {
   "cell_type": "markdown",
   "metadata": {},
   "source": [
    "***\n",
    "### End"
   ]
  }
 ],
 "metadata": {
  "kernelspec": {
   "display_name": "base",
   "language": "python",
   "name": "python3"
  },
  "language_info": {
   "codemirror_mode": {
    "name": "ipython",
    "version": 3
   },
   "file_extension": ".py",
   "mimetype": "text/x-python",
   "name": "python",
   "nbconvert_exporter": "python",
   "pygments_lexer": "ipython3",
   "version": "3.11.7"
  }
 },
 "nbformat": 4,
 "nbformat_minor": 2
}
